{
 "cells": [
  {
   "cell_type": "markdown",
   "metadata": {},
   "source": [
    "# Basics"
   ]
  },
  {
   "cell_type": "code",
   "execution_count": 24,
   "metadata": {
    "collapsed": false
   },
   "outputs": [
    {
     "data": {
      "text/plain": [
       "1463"
      ]
     },
     "execution_count": 24,
     "metadata": {},
     "output_type": "execute_result"
    }
   ],
   "source": [
    "a = 1 + 1442 + 20"
   ]
  },
  {
   "cell_type": "code",
   "execution_count": 25,
   "metadata": {
    "collapsed": false
   },
   "outputs": [
    {
     "data": {
      "text/plain": [
       "2x1 Array{Float64,2}:\n",
       " 1.08866\n",
       " 1.50466"
      ]
     },
     "execution_count": 25,
     "metadata": {},
     "output_type": "execute_result"
    }
   ],
   "source": [
    "rand(2,3) * ones(3,1)"
   ]
  },
  {
   "cell_type": "code",
   "execution_count": 26,
   "metadata": {
    "collapsed": false
   },
   "outputs": [
    {
     "data": {
      "image/png": "[encoded data removed]",
      "text/plain": [
       "Figure(PyObject <matplotlib.figure.Figure object at 0x118505a10>)"
      ]
     },
     "metadata": {},
     "output_type": "display_data"
    },
    {
     "data": {
      "text/plain": [
       "1-element Array{Any,1}:\n",
       " PyObject <matplotlib.lines.Line2D object at 0x1078e2c10>"
      ]
     },
     "execution_count": 26,
     "metadata": {},
     "output_type": "execute_result"
    }
   ],
   "source": [
    "using PyPlot\n",
    "a = sin(linspace(0,10))\n",
    "plot(a)"
   ]
  },
  {
   "cell_type": "markdown",
   "metadata": {},
   "source": [
    "# Control flow - the usual suspects"
   ]
  },
  {
   "cell_type": "code",
   "execution_count": 15,
   "metadata": {
    "collapsed": false
   },
   "outputs": [],
   "source": [
    "x = false\n",
    "x = 1"
   ]
  },
  {
   "cell_type": "code",
   "execution_count": null,
   "metadata": {
    "collapsed": false
   },
   "outputs": [],
   "source": [
    "if false\n",
    "    println(\"jup!\")\n",
    "elseif 1+1 == 2\n",
    "    println(\"but now!\")\n",
    "else\n",
    "    println(\".\")\n",
    "end\n",
    "\n",
    "while rand()<0.99 && x > 5\n",
    "end\n",
    "\n",
    "try\n",
    "    error(\"Brrr\")\n",
    "catch e\n",
    "    println(\"Got error: $e\")\n",
    "finally\n",
    "end"
   ]
  },
  {
   "cell_type": "code",
   "execution_count": 29,
   "metadata": {
    "collapsed": false
   },
   "outputs": [
    {
     "data": {
      "text/plain": [
       "10-element Array{Int64,1}:\n",
       "  1\n",
       "  2\n",
       "  3\n",
       "  4\n",
       "  5\n",
       "  6\n",
       "  7\n",
       "  8\n",
       "  9\n",
       " 10"
      ]
     },
     "execution_count": 29,
     "metadata": {},
     "output_type": "execute_result"
    }
   ],
   "source": [
    "collect(1:10)"
   ]
  },
  {
   "cell_type": "code",
   "execution_count": 30,
   "metadata": {
    "collapsed": false
   },
   "outputs": [
    {
     "data": {
      "text/plain": [
       "3-element Array{Int64,1}:\n",
       " 1\n",
       " 2\n",
       " 3"
      ]
     },
     "execution_count": 30,
     "metadata": {},
     "output_type": "execute_result"
    }
   ],
   "source": [
    "[1,2,3]"
   ]
  },
  {
   "cell_type": "code",
   "execution_count": 31,
   "metadata": {
    "collapsed": false
   },
   "outputs": [
    {
     "name": "stdout",
     "output_type": "stream",
     "text": [
      "x => 1\n",
      "x => \"a\"\n"
     ]
    }
   ],
   "source": [
    "for x = 1:10\n",
    "end\n",
    "\n",
    "for x in 1:10\n",
    "end\n",
    "\n",
    "for x in [1, \"a\"]\n",
    "    @show x\n",
    "end"
   ]
  },
  {
   "cell_type": "code",
   "execution_count": 40,
   "metadata": {
    "collapsed": false
   },
   "outputs": [
    {
     "data": {
      "text/plain": [
       "3-element Array{Uint8,1}:\n",
       " 0x02\n",
       " 0x03\n",
       " 0x04"
      ]
     },
     "execution_count": 40,
     "metadata": {},
     "output_type": "execute_result"
    }
   ],
   "source": [
    "a = [uint8(x+1) for x in 1:3]"
   ]
  },
  {
   "cell_type": "code",
   "execution_count": 44,
   "metadata": {
    "collapsed": false
   },
   "outputs": [
    {
     "data": {
      "text/plain": [
       "3x4 Array{Int64,2}:\n",
       " 1  4  7  10\n",
       " 2  5  8  11\n",
       " 3  6  9  12"
      ]
     },
     "execution_count": 44,
     "metadata": {},
     "output_type": "execute_result"
    }
   ],
   "source": [
    "a = reshape(1:12,3,4)"
   ]
  },
  {
   "cell_type": "code",
   "execution_count": 55,
   "metadata": {
    "collapsed": false
   },
   "outputs": [
    {
     "data": {
      "text/plain": [
       "2x2 Array{Int64,2}:\n",
       " 8  11\n",
       " 9  12"
      ]
     },
     "execution_count": 55,
     "metadata": {},
     "output_type": "execute_result"
    }
   ],
   "source": [
    "a[2:3,3:end]"
   ]
  },
  {
   "cell_type": "code",
   "execution_count": 57,
   "metadata": {
    "collapsed": false
   },
   "outputs": [
    {
     "data": {
      "text/plain": [
       "3x3 Array{Int64,2}:\n",
       " 2  3  4\n",
       " 3  4  5\n",
       " 4  5  6"
      ]
     },
     "execution_count": 57,
     "metadata": {},
     "output_type": "execute_result"
    }
   ],
   "source": [
    "[x+y for x in 1:3, y in 1:3]"
   ]
  },
  {
   "cell_type": "code",
   "execution_count": 62,
   "metadata": {
    "collapsed": false
   },
   "outputs": [
    {
     "data": {
      "text/plain": [
       "3-element Array{(Int64,Int64),1}:\n",
       " (1,4)\n",
       " (2,5)\n",
       " (3,6)"
      ]
     },
     "execution_count": 62,
     "metadata": {},
     "output_type": "execute_result"
    }
   ],
   "source": [
    "collect(zip(1:3, 4:6))"
   ]
  },
  {
   "cell_type": "code",
   "execution_count": 65,
   "metadata": {
    "collapsed": false
   },
   "outputs": [
    {
     "data": {
      "text/plain": [
       "3-element Array{Int64,1}:\n",
       " 5\n",
       " 7\n",
       " 9"
      ]
     },
     "execution_count": 65,
     "metadata": {},
     "output_type": "execute_result"
    }
   ],
   "source": [
    "[x[1]+x[2] for x in zip(1:3, 4:6)]\n",
    "\n",
    "collect((1:3) +(4:6))"
   ]
  },
  {
   "cell_type": "markdown",
   "metadata": {},
   "source": [
    "# Functions / Multiple dispatch"
   ]
  },
  {
   "cell_type": "code",
   "execution_count": 67,
   "metadata": {
    "collapsed": false
   },
   "outputs": [
    {
     "data": {
      "text/plain": [
       "f (generic function with 1 method)"
      ]
     },
     "execution_count": 67,
     "metadata": {},
     "output_type": "execute_result"
    }
   ],
   "source": [
    "function f(a,b)\n",
    "    return a*b\n",
    "end\n",
    "\n",
    "f(a,b) = a*b\n",
    "\n",
    "f(a,b) = begin\n",
    "    a*b\n",
    "end"
   ]
  },
  {
   "cell_type": "code",
   "execution_count": 93,
   "metadata": {
    "collapsed": false
   },
   "outputs": [
    {
     "data": {
      "text/plain": [
       "Int64"
      ]
     },
     "execution_count": 93,
     "metadata": {},
     "output_type": "execute_result"
    }
   ],
   "source": [
    "typeof(1)"
   ]
  },
  {
   "cell_type": "code",
   "execution_count": 92,
   "metadata": {
    "collapsed": false
   },
   "outputs": [
    {
     "data": {
      "text/plain": [
       "3"
      ]
     },
     "execution_count": 92,
     "metadata": {},
     "output_type": "execute_result"
    }
   ],
   "source": [
    "1+2\n",
    "+(1,2)"
   ]
  },
  {
   "cell_type": "code",
   "execution_count": null,
   "metadata": {
    "collapsed": false
   },
   "outputs": [
    {
     "name": "stderr",
     "output_type": "stream",
     "text": [
      "Warning: Method definition +(Int64"
     ]
    }
   ],
   "source": [
    "+(a::Int64,b::Int64) = 0"
   ]
  },
  {
   "cell_type": "code",
   "execution_count": 71,
   "metadata": {
    "collapsed": false
   },
   "outputs": [
    {
     "ename": "LoadError",
     "evalue": "`*` has no method matching *(::ASCIIString, ::Int64)\nwhile loading In[71], in expression starting on line 1",
     "output_type": "error",
     "traceback": [
      "`*` has no method matching *(::ASCIIString, ::Int64)\nwhile loading In[71], in expression starting on line 1",
      "",
      " in f at In[67]:5"
     ]
    }
   ],
   "source": [
    "f(\"abc\",3)"
   ]
  },
  {
   "cell_type": "code",
   "execution_count": 72,
   "metadata": {
    "collapsed": false
   },
   "outputs": [
    {
     "data": {
      "text/html": [
       "1 method for generic function <b>f</b>:<ul><li> f(a,b) at In[67]:5</ul>"
      ],
      "text/plain": [
       "# 1 method for generic function \"f\":\n",
       "f(a,b) at In[67]:5"
      ]
     },
     "execution_count": 72,
     "metadata": {},
     "output_type": "execute_result"
    }
   ],
   "source": [
    "methods(f)"
   ]
  },
  {
   "cell_type": "code",
   "execution_count": 75,
   "metadata": {
    "collapsed": false
   },
   "outputs": [
    {
     "data": {
      "text/plain": [
       "\"blup\""
      ]
     },
     "execution_count": 75,
     "metadata": {},
     "output_type": "execute_result"
    }
   ],
   "source": [
    "f(a::String,b) = \"blup\"\n",
    "f(\"abc\",3)"
   ]
  },
  {
   "cell_type": "code",
   "execution_count": 76,
   "metadata": {
    "collapsed": false
   },
   "outputs": [
    {
     "data": {
      "text/html": [
       "2 methods for generic function <b>f</b>:<ul><li> f(a::<b>String</b>,b) at In[75]:1<li> f(a,b) at In[67]:5</ul>"
      ],
      "text/plain": [
       "# 2 methods for generic function \"f\":\n",
       "f(a::String,b) at In[75]:1\n",
       "f(a,b) at In[67]:5"
      ]
     },
     "execution_count": 76,
     "metadata": {},
     "output_type": "execute_result"
    }
   ],
   "source": [
    "methods(f)"
   ]
  },
  {
   "cell_type": "code",
   "execution_count": null,
   "metadata": {
    "collapsed": true
   },
   "outputs": [],
   "source": [
    "class MyClass\n",
    "  value1\n",
    "end\n",
    "print(a::MyClass) = do_output(a)\n",
    "\n",
    "obj = MyClass(10)\n",
    "obj.print(1,2,3)\n",
    "print(obj,1,3,4)\n",
    "\n",
    "otherinstance.print()\n"
   ]
  },
  {
   "cell_type": "code",
   "execution_count": 78,
   "metadata": {
    "collapsed": false
   },
   "outputs": [
    {
     "data": {
      "text/plain": [
       "f (generic function with 3 methods)"
      ]
     },
     "execution_count": 78,
     "metadata": {},
     "output_type": "execute_result"
    }
   ],
   "source": [
    "f(a::String, b::Float64) = \"mit float\""
   ]
  },
  {
   "cell_type": "code",
   "execution_count": 84,
   "metadata": {
    "collapsed": false
   },
   "outputs": [
    {
     "data": {
      "text/html": [
       "4 methods for generic function <b>f</b>:<ul><li> f(a::<b>String</b>,b::<b>Float64</b>) at In[78]:1<li> f(a::<b>String</b>,b) at In[75]:1<li> f(a::<b>AbstractArray{T,N}</b>,b) at In[83]:1<li> f(a,b) at In[67]:5</ul>"
      ],
      "text/plain": [
       "# 4 methods for generic function \"f\":\n",
       "f(a::String,b::Float64) at In[78]:1\n",
       "f(a::String,b) at In[75]:1\n",
       "f(a::AbstractArray{T,N},b) at In[83]:1\n",
       "f(a,b) at In[67]:5"
      ]
     },
     "execution_count": 84,
     "metadata": {},
     "output_type": "execute_result"
    }
   ],
   "source": [
    "methods(f)"
   ]
  },
  {
   "cell_type": "code",
   "execution_count": 83,
   "metadata": {
    "collapsed": false
   },
   "outputs": [
    {
     "data": {
      "text/plain": [
       "f (generic function with 4 methods)"
      ]
     },
     "execution_count": 83,
     "metadata": {},
     "output_type": "execute_result"
    }
   ],
   "source": [
    "f(a::AbstractArray,b) = a+b\n"
   ]
  },
  {
   "cell_type": "code",
   "execution_count": 85,
   "metadata": {
    "collapsed": false
   },
   "outputs": [
    {
     "data": {
      "text/plain": [
       "2:11"
      ]
     },
     "execution_count": 85,
     "metadata": {},
     "output_type": "execute_result"
    }
   ],
   "source": [
    "f(1:10,1)"
   ]
  },
  {
   "cell_type": "code",
   "execution_count": null,
   "metadata": {
    "collapsed": true
   },
   "outputs": [],
   "source": [
    "draw(a:MyClass) = ...."
   ]
  },
  {
   "cell_type": "code",
   "execution_count": 86,
   "metadata": {
    "collapsed": false
   },
   "outputs": [
    {
     "data": {
      "text/plain": [
       "draw (generic function with 1 method)"
      ]
     },
     "execution_count": 86,
     "metadata": {},
     "output_type": "execute_result"
    }
   ],
   "source": [
    "draw(a) = for point in a plot(point) end"
   ]
  },
  {
   "cell_type": "code",
   "execution_count": null,
   "metadata": {
    "collapsed": true
   },
   "outputs": [],
   "source": [
    "#myclass <: geoprimitive\n",
    "\n",
    "addtocanvas(mything)\n",
    "...\n",
    "for obj in objects\n",
    "    draw(obj)\n",
    "end\n",
    "..."
   ]
  },
  {
   "cell_type": "code",
   "execution_count": null,
   "metadata": {
    "collapsed": false
   },
   "outputs": [],
   "source": [
    "function g(a::Float64, b::Int)\n",
    "    println(\"with a asdf!\")\n",
    "    a*b*10\n",
    "end"
   ]
  },
  {
   "cell_type": "code",
   "execution_count": null,
   "metadata": {
    "collapsed": false
   },
   "outputs": [],
   "source": [
    "function f{T<:FloatingPoint}(a::T, b::T)\n",
    "    println(\"with 2 floats\")\n",
    "    a*b\n",
    "end"
   ]
  },
  {
   "cell_type": "code",
   "execution_count": null,
   "metadata": {
    "collapsed": false
   },
   "outputs": [],
   "source": [
    "f(1.1,2.2)"
   ]
  },
  {
   "cell_type": "code",
   "execution_count": 87,
   "metadata": {
    "collapsed": false
   },
   "outputs": [
    {
     "data": {
      "text/html": [
       "4 methods for generic function <b>f</b>:<ul><li> f(a::<b>String</b>,b::<b>Float64</b>) at In[78]:1<li> f(a::<b>String</b>,b) at In[75]:1<li> f(a::<b>AbstractArray{T,N}</b>,b) at In[83]:1<li> f(a,b) at In[67]:5</ul>"
      ],
      "text/plain": [
       "# 4 methods for generic function \"f\":\n",
       "f(a::String,b::Float64) at In[78]:1\n",
       "f(a::String,b) at In[75]:1\n",
       "f(a::AbstractArray{T,N},b) at In[83]:1\n",
       "f(a,b) at In[67]:5"
      ]
     },
     "execution_count": 87,
     "metadata": {},
     "output_type": "execute_result"
    }
   ],
   "source": [
    "methods(f)"
   ]
  },
  {
   "cell_type": "code",
   "execution_count": null,
   "metadata": {
    "collapsed": true
   },
   "outputs": [],
   "source": []
  },
  {
   "cell_type": "code",
   "execution_count": null,
   "metadata": {
    "collapsed": false
   },
   "outputs": [],
   "source": [
    "@which f(\"asd\",1.2)"
   ]
  },
  {
   "cell_type": "markdown",
   "metadata": {},
   "source": [
    "# Types"
   ]
  },
  {
   "cell_type": "code",
   "execution_count": 1,
   "metadata": {
    "collapsed": false
   },
   "outputs": [
    {
     "data": {
      "text/plain": [
       "StringNumber(\"abc\",1)"
      ]
     },
     "execution_count": 1,
     "metadata": {},
     "output_type": "execute_result"
    }
   ],
   "source": [
    "type StringNumber\n",
    "    a\n",
    "    b\n",
    "end\n",
    "StringNumber(\"abc\",1)"
   ]
  },
  {
   "cell_type": "code",
   "execution_count": 3,
   "metadata": {
    "collapsed": false
   },
   "outputs": [
    {
     "data": {
      "text/plain": [
       "StringNumber(1,StringNumber(1,1))"
      ]
     },
     "execution_count": 3,
     "metadata": {},
     "output_type": "execute_result"
    }
   ],
   "source": [
    "StringNumber(1,StringNumber(1,1))"
   ]
  },
  {
   "cell_type": "code",
   "execution_count": 4,
   "metadata": {
    "collapsed": false
   },
   "outputs": [
    {
     "data": {
      "text/plain": [
       "StringNumber2(\"Test\",2)"
      ]
     },
     "execution_count": 4,
     "metadata": {},
     "output_type": "execute_result"
    }
   ],
   "source": [
    "type StringNumber2{T<:Integer}\n",
    "    a::String\n",
    "    b::T\n",
    "end\n",
    "StringNumber2(\"Test\",2)"
   ]
  },
  {
   "cell_type": "code",
   "execution_count": 5,
   "metadata": {
    "collapsed": false
   },
   "outputs": [
    {
     "ename": "LoadError",
     "evalue": "`convert` has no method matching convert(::Type{String}, ::Int64)\nwhile loading In[5], in expression starting on line 1",
     "output_type": "error",
     "traceback": [
      "`convert` has no method matching convert(::Type{String}, ::Int64)\nwhile loading In[5], in expression starting on line 1",
      "",
      " in StringNumber2 at no file"
     ]
    }
   ],
   "source": [
    "StringNumber2(1,2)"
   ]
  },
  {
   "cell_type": "code",
   "execution_count": 6,
   "metadata": {
    "collapsed": false
   },
   "outputs": [
    {
     "ename": "LoadError",
     "evalue": "f not defined\nwhile loading In[6], in expression starting on line 1",
     "output_type": "error",
     "traceback": [
      "f not defined\nwhile loading In[6], in expression starting on line 1",
      ""
     ]
    }
   ],
   "source": [
    "type StringNumber2{T<:Integer}\n",
    "    a::String\n",
    "    b::T\n",
    "end\n"
   ]
  },
  {
   "cell_type": "code",
   "execution_count": 12,
   "metadata": {
    "collapsed": false
   },
   "outputs": [
    {
     "name": "stdout",
     "output_type": "stream",
     "text": [
      "asdfasdfadsf  StringNumber2: Test10\n"
     ]
    }
   ],
   "source": [
    "\n",
    "function f(a::StringNumber2,b)\n",
    "    println(\"asdfasdfadsf  StringNumber2: \", a.a, a.b)\n",
    "end\n",
    "\n",
    "x = StringNumber2(\"Test\",10)\n",
    "\n",
    "f(x,123)"
   ]
  },
  {
   "cell_type": "markdown",
   "metadata": {},
   "source": [
    "# Modules / Packages"
   ]
  },
  {
   "cell_type": "code",
   "execution_count": null,
   "metadata": {
    "collapsed": true
   },
   "outputs": [],
   "source": [
    "Pkg.add(\"JSON\")\n",
    "using JSON\n",
    "jsonify(mydata)\n",
    "\n",
    "Pkg.installed()\n",
    "Pkg.remove(\"JSON\")"
   ]
  },
  {
   "cell_type": "markdown",
   "metadata": {},
   "source": [
    "* Available packages: [pkg.julialang.org](pkg.julialang.org)\n",
    "* stored in ~/.julia/v0.3/\n",
    "* Typical structure:\n",
    "\n",
    "\n",
    "    ~/.julia/v0.3/StringNumbers/\n",
    "      README.md \n",
    "      REQUIRE\n",
    "      src/\n",
    "        StringNumber.jl\n",
    "      test/\n",
    "        runtests.jl\n",
    "    \n",
    "\n"
   ]
  },
  {
   "cell_type": "code",
   "execution_count": null,
   "metadata": {
    "collapsed": true
   },
   "outputs": [],
   "source": [
    "module StringNumbers\n",
    "\n",
    "#export StringNumber, show\n",
    "\n",
    "type StringNumber{T<:Number}\n",
    "    str::String\n",
    "    num::T\n",
    "end\n",
    "\n",
    "function show(a::StringNumber)\n",
    "    println(\"It's a StringNumber: $(a.str) and $(a.num)\")\n",
    "end\n",
    "\n",
    "end # module"
   ]
  },
  {
   "cell_type": "code",
   "execution_count": null,
   "metadata": {
    "collapsed": true
   },
   "outputs": [],
   "source": [
    "using StringNumber\n",
    "StringNumbers.show(StringNumbers.StringNumber(\"asd\",1))\n",
    "\n"
   ]
  },
  {
   "cell_type": "markdown",
   "metadata": {},
   "source": [
    "# Finding your way around"
   ]
  },
  {
   "cell_type": "markdown",
   "metadata": {},
   "source": [
    "* Documention:\n",
    "  * latest (0.4pre): http://docs.julialang.org/en/latest/\n",
    "  * stable (0.3): http://docs.julialang.org/en/release-0.3/\n",
    "* Mailing lists:\n",
    "  * users: https://groups.google.com/group/julia-users\n",
    "  * devs: https://groups.google.com/group/julia-dev\n",
    "* Issues:\n",
    "  * [Github issues](https://github.com/JuliaLang/julia/issues?q=is%3Aopen+sort%3Aupdated-desc)\n",
    "* Topical overview of packages: https://github.com/svaksha/Julia.jl\n",
    "* Package evaluator: http://pkg.julialang.org/"
   ]
  },
  {
   "cell_type": "markdown",
   "metadata": {},
   "source": [
    "# Code generation"
   ]
  },
  {
   "cell_type": "code",
   "execution_count": 14,
   "metadata": {
    "collapsed": false
   },
   "outputs": [
    {
     "data": {
      "text/plain": [
       "3"
      ]
     },
     "execution_count": 14,
     "metadata": {},
     "output_type": "execute_result"
    }
   ],
   "source": [
    "mysum(a,b) = a+b+1\n",
    "mysum(1,1)"
   ]
  },
  {
   "cell_type": "code",
   "execution_count": 19,
   "metadata": {
    "collapsed": false
   },
   "outputs": [
    {
     "data": {
      "text/plain": [
       "3"
      ]
     },
     "execution_count": 19,
     "metadata": {},
     "output_type": "execute_result"
    }
   ],
   "source": [
    "eval((parse(\"mysum(1,1)\")))"
   ]
  },
  {
   "cell_type": "code",
   "execution_count": 20,
   "metadata": {
    "collapsed": false
   },
   "outputs": [
    {
     "data": {
      "text/plain": [
       "1-element Array{Any,1}:\n",
       " :($(Expr(:lambda, {:a,:b}, {{},{{:a,:Any,0},{:b,:Any,0}},{}}, :(begin  # In[14], line 1:\n",
       "        return a + b + 1\n",
       "    end))))"
      ]
     },
     "execution_count": 20,
     "metadata": {},
     "output_type": "execute_result"
    }
   ],
   "source": [
    "@code_lowered mysum(1,1.5)"
   ]
  },
  {
   "cell_type": "code",
   "execution_count": 21,
   "metadata": {
    "collapsed": false
   },
   "outputs": [
    {
     "data": {
      "text/plain": [
       "1-element Array{Any,1}:\n",
       " :($(Expr(:lambda, {:a,:b}, {{},{{:a,Int64,0},{:b,Float64,0}},{}}, :(begin  # In[14], line 1:\n",
       "        return (top(box))(Float64,(top(add_float))((top(box))(Float64,(top(add_float))((top(box))(Float64,(top(sitofp))(Float64,a::Int64))::Float64,b::Float64))::Float64,(top(box))(Float64,(top(sitofp))(Float64,1))::Float64))::Float64\n",
       "    end::Float64))))"
      ]
     },
     "execution_count": 21,
     "metadata": {},
     "output_type": "execute_result"
    }
   ],
   "source": [
    "@code_typed mysum(1,1.5)"
   ]
  },
  {
   "cell_type": "code",
   "execution_count": 22,
   "metadata": {
    "collapsed": false
   },
   "outputs": [
    {
     "name": "stdout",
     "output_type": "stream",
     "text": [
      "\n",
      "define double @julia_mysum_21040(i64, double) {\n",
      "top:\n",
      "  %2 = sitofp i64 %0 to double, !dbg !3303\n",
      "  %3 = fadd double %2, %1, !dbg !3303\n",
      "  %4 = fadd double %3, 1.000000e+00, !dbg !3303\n",
      "  ret double %4, !dbg !3303\n",
      "}\n"
     ]
    }
   ],
   "source": [
    "@code_llvm mysum(1,1.5)"
   ]
  },
  {
   "cell_type": "code",
   "execution_count": 30,
   "metadata": {
    "collapsed": false
   },
   "outputs": [
    {
     "name": "stdout",
     "output_type": "stream",
     "text": [
      "\t.section\t__TEXT,__text,regular,pure_instructions\n",
      "Filename: promotion.jl\n",
      "Source line: 158\n",
      "\tpush\tRBP\n",
      "\tmov\tRBP, RSP\n",
      "Source line: 158\n",
      "\tvcvtsi2sd\tXMM1, XMM0, RDI\n",
      "\tvaddsd\tXMM0, XMM1, XMM0\n",
      "\tpop\tRBP\n",
      "\tret\n"
     ]
    }
   ],
   "source": [
    "@code_native +(1.1,1)"
   ]
  },
  {
   "cell_type": "code",
   "execution_count": 34,
   "metadata": {
    "collapsed": false
   },
   "outputs": [
    {
     "name": "stdout",
     "output_type": "stream",
     "text": [
      "\t.section\t__TEXT,__text,regular,pure_instructions\n",
      "Filename: int.jl\n",
      "Source line: 33\n",
      "\tpush\tRBP\n",
      "\tmov\tRBP, RSP\n",
      "Source line: 33\n",
      "\tadd\tRDI, RSI\n",
      "\tmov\tRAX, RDI\n",
      "\tpop\tRBP\n",
      "\tret\n"
     ]
    }
   ],
   "source": [
    "@code_native +(1,1)"
   ]
  },
  {
   "cell_type": "code",
   "execution_count": 35,
   "metadata": {
    "collapsed": false
   },
   "outputs": [
    {
     "ename": "LoadError",
     "evalue": "@code_warntype not defined\nwhile loading In[35], in expression starting on line 1",
     "output_type": "error",
     "traceback": [
      "@code_warntype not defined\nwhile loading In[35], in expression starting on line 1",
      ""
     ]
    }
   ],
   "source": [
    "@code_warntype mysum(1,1.1)"
   ]
  },
  {
   "cell_type": "code",
   "execution_count": null,
   "metadata": {
    "collapsed": false
   },
   "outputs": [],
   "source": [
    "function f(a,b)\n",
    "    r = zero(a)\n",
    "    @inbounds for i = 1:length(a)\n",
    "        r[i] = a[i]+b[i]\n",
    "    end\n",
    "end\n",
    "data = rand(Float32, 1000000000)\n",
    "f(data,data)\n",
    "@time f(data,data)\n"
   ]
  },
  {
   "cell_type": "code",
   "execution_count": null,
   "metadata": {
    "collapsed": false
   },
   "outputs": [],
   "source": [
    "data = rand(Float32,10)\n",
    "@code_native f(data,data)"
   ]
  },
  {
   "cell_type": "code",
   "execution_count": null,
   "metadata": {
    "collapsed": false
   },
   "outputs": [],
   "source": [
    "function mysum2(a,b)\n",
    "    r = 0\n",
    "    r += a\n",
    "    r += b\n",
    "    r += 1\n",
    "    r\n",
    "end"
   ]
  },
  {
   "cell_type": "code",
   "execution_count": null,
   "metadata": {
    "collapsed": false
   },
   "outputs": [],
   "source": [
    "@code_warntype mysum2(1,1.5)"
   ]
  },
  {
   "cell_type": "markdown",
   "metadata": {},
   "source": [
    "# Parallel computing"
   ]
  },
  {
   "cell_type": "code",
   "execution_count": null,
   "metadata": {
    "collapsed": false
   },
   "outputs": [],
   "source": [
    "addprocs(3)"
   ]
  },
  {
   "cell_type": "code",
   "execution_count": null,
   "metadata": {
    "collapsed": false
   },
   "outputs": [],
   "source": [
    "workers()"
   ]
  },
  {
   "cell_type": "code",
   "execution_count": null,
   "metadata": {
    "collapsed": false
   },
   "outputs": [],
   "source": [
    "@time map(x->svd(rand(1000,x)),200:210);"
   ]
  },
  {
   "cell_type": "code",
   "execution_count": null,
   "metadata": {
    "collapsed": false
   },
   "outputs": [],
   "source": [
    "@time pmap(x->svd(rand(1000,x)), 200:210);"
   ]
  },
  {
   "cell_type": "code",
   "execution_count": null,
   "metadata": {
    "collapsed": false
   },
   "outputs": [],
   "source": [
    "r = @fetch 1+1"
   ]
  },
  {
   "cell_type": "code",
   "execution_count": null,
   "metadata": {
    "collapsed": false
   },
   "outputs": [],
   "source": [
    "f(a,b) = a+b\n"
   ]
  }
 ],
 "metadata": {
  "kernelspec": {
   "display_name": "Julia 0.3.7",
   "language": "julia",
   "name": "julia-0.3"
  },
  "language_info": {
   "name": "julia",
   "version": "0.3.11"
  }
 },
 "nbformat": 4,
 "nbformat_minor": 0
}
